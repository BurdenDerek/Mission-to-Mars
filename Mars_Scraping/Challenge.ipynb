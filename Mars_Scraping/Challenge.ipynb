{
 "cells": [
  {
   "cell_type": "code",
   "execution_count": 1,
   "metadata": {},
   "outputs": [],
   "source": [
    "from splinter import Browser\n",
    "from bs4 import BeautifulSoup as soup\n",
    "\n",
    "import re\n",
    "import time\n",
    "\n",
    "executable_path = {'executable_path': 'chromedriver.exe'}\n",
    "browser = Browser('chrome', **executable_path, headless=False)\n",
    "\n",
    "# Visit the Quotes to Scrape site\n",
    "url = 'https://astrogeology.usgs.gov/search/results?q=hemisphere+enhanced&k1=target&v1=Mars'\n",
    "browser.visit(url)\n",
    "\n",
    "# Parse the HTML\n",
    "html = browser.html\n",
    "page = soup(html, 'html.parser')\n",
    "\n",
    "links = []\n",
    "for link in page.find_all('a', attrs={'href': re.compile(\"/search/map/Mars/Viking/\")}):\n",
    "    links.append(link.get('href'))\n",
    "links = list(set(links))\n",
    "\n",
    "base_url = \"https://astrogeology.usgs.gov\"\n",
    "picture_url = [base_url+link for link in links]\n",
    "\n",
    "for url in picture_url:\n",
    "    browser.visit(url)\n",
    "    html = browser.html\n",
    "    page = soup(html, 'html.parser')\n",
    "    \n",
    "    links = []\n",
    "\n",
    "    for link in page.find_all('a', attrs={'href': re.compile(\"https://astropedia.astrogeology.usgs.gov/download/Mars/Viking/\")}):\n",
    "        links.append(link.get('href'))\n",
    "\n",
    "    picture = links[1]\n",
    "    browser.visit(picture)\n",
    "    \n",
    "time.sleep(30)\n",
    "browser.quit()"
   ]
  },
  {
   "cell_type": "code",
   "execution_count": 2,
   "metadata": {},
   "outputs": [],
   "source": []
  }
 ],
 "metadata": {
  "kernelspec": {
   "display_name": "Python 3",
   "language": "python",
   "name": "python3"
  },
  "language_info": {
   "codemirror_mode": {
    "name": "ipython",
    "version": 3
   },
   "file_extension": ".py",
   "mimetype": "text/x-python",
   "name": "python",
   "nbconvert_exporter": "python",
   "pygments_lexer": "ipython3",
   "version": "3.7.6"
  }
 },
 "nbformat": 4,
 "nbformat_minor": 4
}
